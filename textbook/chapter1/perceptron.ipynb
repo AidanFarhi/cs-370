{
 "cells": [
  {
   "cell_type": "markdown",
   "id": "d1d99105",
   "metadata": {},
   "source": [
    "imports"
   ]
  },
  {
   "cell_type": "code",
   "execution_count": 3,
   "id": "e4546d6d",
   "metadata": {},
   "outputs": [],
   "source": [
    "from keras.models import Sequential\n",
    "from keras.layers import Dense, Input"
   ]
  },
  {
   "cell_type": "markdown",
   "id": "4bd3f893",
   "metadata": {},
   "source": [
    "get an instance of sequential model"
   ]
  },
  {
   "cell_type": "code",
   "execution_count": 4,
   "id": "8ecc0a2a",
   "metadata": {},
   "outputs": [],
   "source": [
    "model = Sequential()"
   ]
  },
  {
   "cell_type": "markdown",
   "id": "ca31a140",
   "metadata": {},
   "source": [
    "expect 8 input variables/features"
   ]
  },
  {
   "cell_type": "code",
   "execution_count": 5,
   "id": "d90ea16e",
   "metadata": {},
   "outputs": [],
   "source": [
    "model.add(Input(shape=(8,)))"
   ]
  },
  {
   "cell_type": "markdown",
   "id": "636f6324",
   "metadata": {},
   "source": [
    "add a single layer with 12 neurons and random uniform weights"
   ]
  },
  {
   "cell_type": "code",
   "execution_count": 6,
   "id": "c930bf85",
   "metadata": {},
   "outputs": [],
   "source": [
    "model.add(Dense(12, kernel_initializer='random_uniform'))"
   ]
  },
  {
   "cell_type": "code",
   "execution_count": null,
   "id": "ec85859f",
   "metadata": {},
   "outputs": [],
   "source": []
  }
 ],
 "metadata": {
  "kernelspec": {
   "display_name": ".venv",
   "language": "python",
   "name": "python3"
  },
  "language_info": {
   "codemirror_mode": {
    "name": "ipython",
    "version": 3
   },
   "file_extension": ".py",
   "mimetype": "text/x-python",
   "name": "python",
   "nbconvert_exporter": "python",
   "pygments_lexer": "ipython3",
   "version": "3.12.11"
  }
 },
 "nbformat": 4,
 "nbformat_minor": 5
}
