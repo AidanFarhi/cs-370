{
 "cells": [
  {
   "cell_type": "markdown",
   "id": "7f2efe79",
   "metadata": {},
   "source": [
    "# ReLU Activation Function"
   ]
  },
  {
   "cell_type": "markdown",
   "id": "1bdda254",
   "metadata": {},
   "source": [
    "To product outputs that are a smooth value between 0 and 1,\n",
    "a ReLU activation function can be used.\n",
    "\n",
    "Here is a ReLU function:\n",
    "\n",
    "```\n",
    "ReLU(x) = max(0, x)\n",
    "```\n",
    "\n",
    "The updated sigmoid neuron function:\n",
    "\n",
    "`ReLU(z = wx + b)`\n",
    "\n",
    "`w` is a vector of weights\n",
    "\n",
    "`x` is a vector of inputs\n",
    "\n",
    "`b` is a bias\n",
    "\n",
    "`wx` is the dot product of each input and weight"
   ]
  },
  {
   "cell_type": "markdown",
   "id": "1b1213b3",
   "metadata": {},
   "source": [
    "Here is an artificial neuron using a sigmoid activation function"
   ]
  },
  {
   "cell_type": "code",
   "execution_count": 2,
   "id": "fd533ef8",
   "metadata": {},
   "outputs": [],
   "source": [
    "def relu_neuron(input: dict, weights: dict, bias: int):\n",
    "    dot_product = 0\n",
    "    for feature in input:\n",
    "        dot_product += input[feature] * weights[feature]\n",
    "    result = dot_product + bias\n",
    "    return max(0, result)"
   ]
  },
  {
   "cell_type": "markdown",
   "id": "871935ad",
   "metadata": {},
   "source": [
    "Set up all the variables"
   ]
  },
  {
   "cell_type": "code",
   "execution_count": 6,
   "id": "1b37b92c",
   "metadata": {},
   "outputs": [],
   "source": [
    "INPUTS = [\n",
    "    {'age': 20, 'weight': 100},\n",
    "    {'age': 25, 'weight': 154},\n",
    "    {'age': 32, 'weight': 234},\n",
    "    {'age': 56, 'weight': 225},\n",
    "    {'age': 19, 'weight': 155},\n",
    "    {'age': 23, 'weight': 254}\n",
    "]\n",
    "WEIGHTS = {\n",
    "    'age': 3,\n",
    "    'weight': 2\n",
    "}\n",
    "BIAS = -550"
   ]
  },
  {
   "cell_type": "code",
   "execution_count": 7,
   "id": "1aa62331",
   "metadata": {},
   "outputs": [],
   "source": [
    "experiment_result = []\n",
    "for x in INPUTS:\n",
    "    result = relu_neuron(x, WEIGHTS, BIAS)\n",
    "    experiment_result.append({'input': x, 'high_risk': result})"
   ]
  },
  {
   "cell_type": "code",
   "execution_count": 8,
   "id": "5267e8b4",
   "metadata": {},
   "outputs": [
    {
     "name": "stdout",
     "output_type": "stream",
     "text": [
      "{'age': 20, 'weight': 100} at risk of heart disease -> 0\n",
      "{'age': 25, 'weight': 154} at risk of heart disease -> 0\n",
      "{'age': 32, 'weight': 234} at risk of heart disease -> 14\n",
      "{'age': 56, 'weight': 225} at risk of heart disease -> 68\n",
      "{'age': 19, 'weight': 155} at risk of heart disease -> 0\n",
      "{'age': 23, 'weight': 254} at risk of heart disease -> 27\n"
     ]
    }
   ],
   "source": [
    "for result in experiment_result:\n",
    "    print(result['input'], 'at risk of heart disease ->', result['high_risk'])"
   ]
  },
  {
   "cell_type": "markdown",
   "id": "ad59e8b5",
   "metadata": {},
   "source": []
  },
  {
   "cell_type": "code",
   "execution_count": null,
   "id": "1c798422",
   "metadata": {},
   "outputs": [],
   "source": []
  }
 ],
 "metadata": {
  "kernelspec": {
   "display_name": ".venv",
   "language": "python",
   "name": "python3"
  },
  "language_info": {
   "codemirror_mode": {
    "name": "ipython",
    "version": 3
   },
   "file_extension": ".py",
   "mimetype": "text/x-python",
   "name": "python",
   "nbconvert_exporter": "python",
   "pygments_lexer": "ipython3",
   "version": "3.12.11"
  }
 },
 "nbformat": 4,
 "nbformat_minor": 5
}
