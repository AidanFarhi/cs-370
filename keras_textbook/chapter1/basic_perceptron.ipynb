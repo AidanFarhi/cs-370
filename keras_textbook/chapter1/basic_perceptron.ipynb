{
 "cells": [
  {
   "cell_type": "markdown",
   "id": "8064214e",
   "metadata": {},
   "source": [
    "# Perceptron"
   ]
  },
  {
   "cell_type": "markdown",
   "id": "1bdda254",
   "metadata": {},
   "source": [
    "A perceptron is an algorithm that outputs either 1 or 0\n",
    "for a vector of inputs.\n",
    "\n",
    "It uses this formula:\n",
    "\n",
    "```\n",
    "      1 if wx + b > 0\n",
    "    /\n",
    "f(x)\n",
    "    \\\n",
    "      0 otherwise\n",
    "```\n",
    "\n",
    "\n",
    "\n",
    "`w` is a vector of weights\n",
    "\n",
    "`x` is a vector of inputs\n",
    "\n",
    "`b` is a bias\n",
    "\n",
    "`wx` is the dot product of each input and weight "
   ]
  },
  {
   "cell_type": "markdown",
   "id": "1b1213b3",
   "metadata": {},
   "source": [
    "Here is a very basic version of a perceptron"
   ]
  },
  {
   "cell_type": "code",
   "execution_count": 4,
   "id": "fd533ef8",
   "metadata": {},
   "outputs": [],
   "source": [
    "def perceptron(input: dict, weights: dict, bias: int):\n",
    "    dot_product = 0\n",
    "    for feature in input:\n",
    "        dot_product += input[feature] * weights[feature]\n",
    "    result = dot_product + bias\n",
    "    return result > 0"
   ]
  },
  {
   "cell_type": "markdown",
   "id": "871935ad",
   "metadata": {},
   "source": [
    "Set up all the variables"
   ]
  },
  {
   "cell_type": "code",
   "execution_count": 17,
   "id": "1b37b92c",
   "metadata": {},
   "outputs": [],
   "source": [
    "INPUTS = [\n",
    "    {'age': 20, 'weight': 100},\n",
    "    {'age': 25, 'weight': 154},\n",
    "    {'age': 32, 'weight': 234},\n",
    "    {'age': 56, 'weight': 225},\n",
    "    {'age': 19, 'weight': 155},\n",
    "    {'age': 23, 'weight': 254}\n",
    "]\n",
    "WEIGHTS = {\n",
    "    'age': 3,\n",
    "    'weight': 2\n",
    "}\n",
    "BIAS = -550"
   ]
  },
  {
   "cell_type": "code",
   "execution_count": 20,
   "id": "1aa62331",
   "metadata": {},
   "outputs": [],
   "source": [
    "experiment_result = []\n",
    "for x in INPUTS:\n",
    "    result = perceptron(x, WEIGHTS, BIAS)\n",
    "    experiment_result.append({'input': x, 'high_risk': result})"
   ]
  },
  {
   "cell_type": "code",
   "execution_count": 23,
   "id": "5267e8b4",
   "metadata": {},
   "outputs": [
    {
     "name": "stdout",
     "output_type": "stream",
     "text": [
      "{'age': 20, 'weight': 100} at risk of heart disease -> False\n",
      "{'age': 25, 'weight': 154} at risk of heart disease -> False\n",
      "{'age': 32, 'weight': 234} at risk of heart disease -> True\n",
      "{'age': 56, 'weight': 225} at risk of heart disease -> True\n",
      "{'age': 19, 'weight': 155} at risk of heart disease -> False\n",
      "{'age': 23, 'weight': 254} at risk of heart disease -> True\n"
     ]
    }
   ],
   "source": [
    "for result in experiment_result:\n",
    "    print(result['input'], 'at risk of heart disease ->', result['high_risk'])"
   ]
  },
  {
   "cell_type": "code",
   "execution_count": null,
   "id": "1c798422",
   "metadata": {},
   "outputs": [],
   "source": []
  }
 ],
 "metadata": {
  "kernelspec": {
   "display_name": ".venv",
   "language": "python",
   "name": "python3"
  },
  "language_info": {
   "codemirror_mode": {
    "name": "ipython",
    "version": 3
   },
   "file_extension": ".py",
   "mimetype": "text/x-python",
   "name": "python",
   "nbconvert_exporter": "python",
   "pygments_lexer": "ipython3",
   "version": "3.12.11"
  }
 },
 "nbformat": 4,
 "nbformat_minor": 5
}
